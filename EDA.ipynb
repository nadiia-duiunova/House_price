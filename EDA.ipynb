{
 "cells": [
  {
   "cell_type": "code",
   "execution_count": 1,
   "metadata": {},
   "outputs": [],
   "source": [
    "import pandas as pd\n",
    "import numpy as np\n",
    "import seaborn as sns\n",
    "import matplotlib.pyplot as plt\n",
    "\n",
    "import scipy.stats as stats"
   ]
  },
  {
   "attachments": {},
   "cell_type": "markdown",
   "metadata": {},
   "source": [
    "# Exploratory Data Analysis (EDA)"
   ]
  },
  {
   "attachments": {},
   "cell_type": "markdown",
   "metadata": {},
   "source": [
    "### 1. Load train set and sample the dataset to a manageable size if necessary"
   ]
  },
  {
   "cell_type": "code",
   "execution_count": 2,
   "metadata": {},
   "outputs": [
    {
     "data": {
      "text/html": [
       "<div>\n",
       "<style scoped>\n",
       "    .dataframe tbody tr th:only-of-type {\n",
       "        vertical-align: middle;\n",
       "    }\n",
       "\n",
       "    .dataframe tbody tr th {\n",
       "        vertical-align: top;\n",
       "    }\n",
       "\n",
       "    .dataframe thead th {\n",
       "        text-align: right;\n",
       "    }\n",
       "</style>\n",
       "<table border=\"1\" class=\"dataframe\">\n",
       "  <thead>\n",
       "    <tr style=\"text-align: right;\">\n",
       "      <th></th>\n",
       "      <th>Address</th>\n",
       "      <th>Zip</th>\n",
       "      <th>Price</th>\n",
       "      <th>Area</th>\n",
       "      <th>Room</th>\n",
       "      <th>Lon</th>\n",
       "      <th>Lat</th>\n",
       "    </tr>\n",
       "  </thead>\n",
       "  <tbody>\n",
       "    <tr>\n",
       "      <th>0</th>\n",
       "      <td>Marcantilaan 123, Amsterdam</td>\n",
       "      <td>1051 LW</td>\n",
       "      <td>325000.0</td>\n",
       "      <td>41</td>\n",
       "      <td>2</td>\n",
       "      <td>4.867459</td>\n",
       "      <td>52.375562</td>\n",
       "    </tr>\n",
       "    <tr>\n",
       "      <th>1</th>\n",
       "      <td>Vossiusstraat 71, Amsterdam</td>\n",
       "      <td>1071 AK</td>\n",
       "      <td>2500000.0</td>\n",
       "      <td>202</td>\n",
       "      <td>6</td>\n",
       "      <td>4.876117</td>\n",
       "      <td>52.359763</td>\n",
       "    </tr>\n",
       "    <tr>\n",
       "      <th>2</th>\n",
       "      <td>Prinsengracht 1035 D, Amsterdam</td>\n",
       "      <td>1017 KP</td>\n",
       "      <td>825000.0</td>\n",
       "      <td>148</td>\n",
       "      <td>3</td>\n",
       "      <td>4.895224</td>\n",
       "      <td>52.361929</td>\n",
       "    </tr>\n",
       "    <tr>\n",
       "      <th>3</th>\n",
       "      <td>Doornburg 155, Amsterdam</td>\n",
       "      <td>1081 JX</td>\n",
       "      <td>699000.0</td>\n",
       "      <td>98</td>\n",
       "      <td>3</td>\n",
       "      <td>4.861985</td>\n",
       "      <td>52.322384</td>\n",
       "    </tr>\n",
       "    <tr>\n",
       "      <th>4</th>\n",
       "      <td>Weesperzijde 114 huis, Amsterdam</td>\n",
       "      <td>1091 EN</td>\n",
       "      <td>1795000.0</td>\n",
       "      <td>158</td>\n",
       "      <td>6</td>\n",
       "      <td>4.912109</td>\n",
       "      <td>52.350755</td>\n",
       "    </tr>\n",
       "  </tbody>\n",
       "</table>\n",
       "</div>"
      ],
      "text/plain": [
       "                            Address      Zip      Price  Area  Room       Lon   \n",
       "0       Marcantilaan 123, Amsterdam  1051 LW   325000.0    41     2  4.867459  \\\n",
       "1       Vossiusstraat 71, Amsterdam  1071 AK  2500000.0   202     6  4.876117   \n",
       "2   Prinsengracht 1035 D, Amsterdam  1017 KP   825000.0   148     3  4.895224   \n",
       "3          Doornburg 155, Amsterdam  1081 JX   699000.0    98     3  4.861985   \n",
       "4  Weesperzijde 114 huis, Amsterdam  1091 EN  1795000.0   158     6  4.912109   \n",
       "\n",
       "         Lat  \n",
       "0  52.375562  \n",
       "1  52.359763  \n",
       "2  52.361929  \n",
       "3  52.322384  \n",
       "4  52.350755  "
      ]
     },
     "execution_count": 2,
     "metadata": {},
     "output_type": "execute_result"
    }
   ],
   "source": [
    "data = pd.read_csv('data/data_train.csv')\n",
    "data.head()"
   ]
  },
  {
   "attachments": {},
   "cell_type": "markdown",
   "metadata": {},
   "source": [
    "### 2. For supervised learning tasks, identify the target attribute"
   ]
  },
  {
   "cell_type": "code",
   "execution_count": 3,
   "metadata": {},
   "outputs": [],
   "source": [
    "TARGET = 'Price'"
   ]
  },
  {
   "attachments": {},
   "cell_type": "markdown",
   "metadata": {},
   "source": [
    "### 3. Study each attribute and its characteristics:"
   ]
  },
  {
   "attachments": {},
   "cell_type": "markdown",
   "metadata": {},
   "source": [
    "1. **Name**"
   ]
  },
  {
   "cell_type": "code",
   "execution_count": 4,
   "metadata": {},
   "outputs": [
    {
     "data": {
      "text/plain": [
       "Index(['Address', 'Zip', 'Price', 'Area', 'Room', 'Lon', 'Lat'], dtype='object')"
      ]
     },
     "execution_count": 4,
     "metadata": {},
     "output_type": "execute_result"
    }
   ],
   "source": [
    "data.columns"
   ]
  },
  {
   "attachments": {},
   "cell_type": "markdown",
   "metadata": {},
   "source": [
    "2. **Type (categorical, int/float, bounded/unbounded, text, structured, etc.);**"
   ]
  },
  {
   "cell_type": "code",
   "execution_count": 5,
   "metadata": {},
   "outputs": [
    {
     "data": {
      "text/html": [
       "<div>\n",
       "<style scoped>\n",
       "    .dataframe tbody tr th:only-of-type {\n",
       "        vertical-align: middle;\n",
       "    }\n",
       "\n",
       "    .dataframe tbody tr th {\n",
       "        vertical-align: top;\n",
       "    }\n",
       "\n",
       "    .dataframe thead th {\n",
       "        text-align: right;\n",
       "    }\n",
       "</style>\n",
       "<table border=\"1\" class=\"dataframe\">\n",
       "  <thead>\n",
       "    <tr style=\"text-align: right;\">\n",
       "      <th></th>\n",
       "      <th>Price</th>\n",
       "      <th>Address</th>\n",
       "      <th>Zip</th>\n",
       "      <th>Area</th>\n",
       "      <th>Room</th>\n",
       "      <th>Lon</th>\n",
       "      <th>Lat</th>\n",
       "    </tr>\n",
       "  </thead>\n",
       "  <tbody>\n",
       "    <tr>\n",
       "      <th>data_type</th>\n",
       "      <td>continuous</td>\n",
       "      <td>text</td>\n",
       "      <td>text</td>\n",
       "      <td>continuous</td>\n",
       "      <td>descrete</td>\n",
       "      <td>continuous</td>\n",
       "      <td>continuous</td>\n",
       "    </tr>\n",
       "  </tbody>\n",
       "</table>\n",
       "</div>"
      ],
      "text/plain": [
       "                Price Address   Zip        Area      Room         Lon   \n",
       "data_type  continuous    text  text  continuous  descrete  continuous  \\\n",
       "\n",
       "                  Lat  \n",
       "data_type  continuous  "
      ]
     },
     "metadata": {},
     "output_type": "display_data"
    }
   ],
   "source": [
    "df_datatype = pd.DataFrame.from_dict(\n",
    "    {\n",
    "        \"Price\": \"continuous\",  # <- This is our TARGET\n",
    "        \"Address\": \"text\",      # assumption: might be non-informative, because there is also longtitude and latitude data present, which might appear to be more infirmative\n",
    "        \"Zip\": \"text\",          # because zip contains not only numbers, but also letters\n",
    "        \"Area\": \"continuous\",\n",
    "        \"Room\": \"descrete\",\n",
    "        \"Lon\": \"continuous\",\n",
    "        \"Lat\": \"continuous\",\n",
    "    },\n",
    "    orient=\"index\",\n",
    "    columns=[\"data_type\"],\n",
    ")\n",
    "display(df_datatype.transpose())"
   ]
  },
  {
   "attachments": {},
   "cell_type": "markdown",
   "metadata": {},
   "source": [
    "3. **Percentage of missing values;**"
   ]
  },
  {
   "cell_type": "code",
   "execution_count": 6,
   "metadata": {},
   "outputs": [
    {
     "name": "stdout",
     "output_type": "stream",
     "text": [
      "o 3 (2.84%) missing values\n"
     ]
    }
   ],
   "source": [
    "print(\n",
    "    f\"o {data.isna().sum().sum()} ({data.isna().sum().sum()*100/data.shape[0]*data.shape[1]:.2f}%) missing values\"\n",
    ")"
   ]
  },
  {
   "attachments": {},
   "cell_type": "markdown",
   "metadata": {},
   "source": [
    "Check if missing values are represented in a different way as in the description of the dataset it is stated that there are missing values."
   ]
  },
  {
   "cell_type": "code",
   "execution_count": 7,
   "metadata": {},
   "outputs": [],
   "source": [
    "# Uncomment to inspect all columns\n",
    "\n",
    "# for column in data.columns:\n",
    "#     print(f\"{column}: {data[column].unique()}\")"
   ]
  },
  {
   "attachments": {},
   "cell_type": "markdown",
   "metadata": {},
   "source": [
    "There is no missing data, that is represented in a different way."
   ]
  },
  {
   "cell_type": "code",
   "execution_count": 8,
   "metadata": {},
   "outputs": [
    {
     "data": {
      "text/html": [
       "<div>\n",
       "<style scoped>\n",
       "    .dataframe tbody tr th:only-of-type {\n",
       "        vertical-align: middle;\n",
       "    }\n",
       "\n",
       "    .dataframe tbody tr th {\n",
       "        vertical-align: top;\n",
       "    }\n",
       "\n",
       "    .dataframe thead th {\n",
       "        text-align: right;\n",
       "    }\n",
       "</style>\n",
       "<table border=\"1\" class=\"dataframe\">\n",
       "  <thead>\n",
       "    <tr style=\"text-align: right;\">\n",
       "      <th></th>\n",
       "      <th>Address</th>\n",
       "      <th>Zip</th>\n",
       "      <th>Price</th>\n",
       "      <th>Area</th>\n",
       "      <th>Room</th>\n",
       "      <th>Lon</th>\n",
       "      <th>Lat</th>\n",
       "    </tr>\n",
       "  </thead>\n",
       "  <tbody>\n",
       "    <tr>\n",
       "      <th>missing values</th>\n",
       "      <td>0</td>\n",
       "      <td>0</td>\n",
       "      <td>3</td>\n",
       "      <td>0</td>\n",
       "      <td>0</td>\n",
       "      <td>0</td>\n",
       "      <td>0</td>\n",
       "    </tr>\n",
       "  </tbody>\n",
       "</table>\n",
       "</div>"
      ],
      "text/plain": [
       "                Address  Zip  Price  Area  Room  Lon  Lat\n",
       "missing values        0    0      3     0     0    0    0"
      ]
     },
     "metadata": {},
     "output_type": "display_data"
    }
   ],
   "source": [
    "df_missing_value = data.isna().sum().to_frame(name=\"missing values\")\n",
    "display(df_missing_value.transpose())"
   ]
  },
  {
   "cell_type": "code",
   "execution_count": 9,
   "metadata": {},
   "outputs": [
    {
     "data": {
      "text/html": [
       "<div>\n",
       "<style scoped>\n",
       "    .dataframe tbody tr th:only-of-type {\n",
       "        vertical-align: middle;\n",
       "    }\n",
       "\n",
       "    .dataframe tbody tr th {\n",
       "        vertical-align: top;\n",
       "    }\n",
       "\n",
       "    .dataframe thead th {\n",
       "        text-align: right;\n",
       "    }\n",
       "</style>\n",
       "<table border=\"1\" class=\"dataframe\">\n",
       "  <thead>\n",
       "    <tr style=\"text-align: right;\">\n",
       "      <th></th>\n",
       "      <th>Address</th>\n",
       "      <th>Zip</th>\n",
       "      <th>Price</th>\n",
       "      <th>Area</th>\n",
       "      <th>Room</th>\n",
       "      <th>Lon</th>\n",
       "      <th>Lat</th>\n",
       "    </tr>\n",
       "  </thead>\n",
       "  <tbody>\n",
       "    <tr>\n",
       "      <th>84</th>\n",
       "      <td>Suikerplein 16, Amsterdam</td>\n",
       "      <td>1013 CK</td>\n",
       "      <td>NaN</td>\n",
       "      <td>81</td>\n",
       "      <td>3</td>\n",
       "      <td>4.880976</td>\n",
       "      <td>52.389623</td>\n",
       "    </tr>\n",
       "    <tr>\n",
       "      <th>173</th>\n",
       "      <td>Falckstraat 47 A, Amsterdam</td>\n",
       "      <td>1017 VV</td>\n",
       "      <td>NaN</td>\n",
       "      <td>147</td>\n",
       "      <td>3</td>\n",
       "      <td>4.897454</td>\n",
       "      <td>52.360707</td>\n",
       "    </tr>\n",
       "    <tr>\n",
       "      <th>180</th>\n",
       "      <td>Haarlemmerweg 705, Amsterdam</td>\n",
       "      <td>1067 HP</td>\n",
       "      <td>NaN</td>\n",
       "      <td>366</td>\n",
       "      <td>12</td>\n",
       "      <td>4.787874</td>\n",
       "      <td>52.383877</td>\n",
       "    </tr>\n",
       "  </tbody>\n",
       "</table>\n",
       "</div>"
      ],
      "text/plain": [
       "                          Address      Zip  Price  Area  Room       Lon   \n",
       "84      Suikerplein 16, Amsterdam  1013 CK    NaN    81     3  4.880976  \\\n",
       "173   Falckstraat 47 A, Amsterdam  1017 VV    NaN   147     3  4.897454   \n",
       "180  Haarlemmerweg 705, Amsterdam  1067 HP    NaN   366    12  4.787874   \n",
       "\n",
       "           Lat  \n",
       "84   52.389623  \n",
       "173  52.360707  \n",
       "180  52.383877  "
      ]
     },
     "execution_count": 9,
     "metadata": {},
     "output_type": "execute_result"
    }
   ],
   "source": [
    "data[data.isna().any(axis=1)]"
   ]
  },
  {
   "attachments": {},
   "cell_type": "markdown",
   "metadata": {},
   "source": [
    "4. **Check if there are duplicates**"
   ]
  },
  {
   "cell_type": "code",
   "execution_count": 10,
   "metadata": {},
   "outputs": [
    {
     "name": "stdout",
     "output_type": "stream",
     "text": [
      "o 1 (0.001%) duplicate values\n"
     ]
    }
   ],
   "source": [
    "print(\n",
    "    f\"o {data.duplicated().sum()} ({data.duplicated().sum()/len(data):.3f}%) duplicate values\"\n",
    ")"
   ]
  },
  {
   "attachments": {},
   "cell_type": "markdown",
   "metadata": {},
   "source": [
    "5. **Check outliers**"
   ]
  },
  {
   "attachments": {},
   "cell_type": "markdown",
   "metadata": {},
   "source": [
    "1. Let's check the **distribution** of the **numerical** (continuous and descrete) independent variables"
   ]
  },
  {
   "cell_type": "code",
   "execution_count": 11,
   "metadata": {},
   "outputs": [
    {
     "data": {
      "text/plain": [
       "['Price', 'Area', 'Room', 'Lon', 'Lat']"
      ]
     },
     "execution_count": 11,
     "metadata": {},
     "output_type": "execute_result"
    }
   ],
   "source": [
    "list_numerical = []\n",
    "for col in data.columns:\n",
    "    if df_datatype['data_type'][col] == \"continuous\" or df_datatype['data_type'][col] == \"descrete\":\n",
    "        list_numerical.append(col)\n",
    "\n",
    "list_numerical"
   ]
  },
  {
   "cell_type": "code",
   "execution_count": 12,
   "metadata": {},
   "outputs": [
    {
     "data": {
      "image/png": "[encoded data removed]",
      "text/plain": [
       "<Figure size 1800x300 with 5 Axes>"
      ]
     },
     "metadata": {},
     "output_type": "display_data"
    }
   ],
   "source": [
    "fig, axes = plt.subplots(1, 5, figsize=(18, 3))\n",
    "\n",
    "for i, col in enumerate(list_numerical):\n",
    "    plot = sns.histplot(ax=axes.flatten()[i], x = data[col], bins = 30)\n",
    "\n",
    "plt.tight_layout() "
   ]
  },
  {
   "attachments": {},
   "cell_type": "markdown",
   "metadata": {},
   "source": [
    "**a.** Price, Area and Room are right scewed destributions, that is why simple ± 3std rule can not be applied to detect outliers. Instead, we can apply Q3 +1.5(IQR) rule:"
   ]
  },
  {
   "cell_type": "code",
   "execution_count": 13,
   "metadata": {},
   "outputs": [
    {
     "name": "stdout",
     "output_type": "stream",
     "text": [
      "o 56 datapoints with Price > 1225000.0\n",
      "o 33 datapoints with Area > 189.75\n",
      "o 62 datapoints with Room > 5.5\n"
     ]
    }
   ],
   "source": [
    "for i in ['Price', 'Area', 'Room']:\n",
    "    Q3 = np.nanpercentile(data[i], [75])[0]\n",
    "    IQR = stats.iqr(data[i], interpolation = 'midpoint', nan_policy='omit')\n",
    "\n",
    "    outlier_border = Q3 + 1.5*IQR\n",
    "\n",
    "    outliers = data[data[i]>outlier_border]\n",
    "    print(f'o {outliers.shape[0]} datapoints with {i} > {outlier_border}')\n",
    "\n",
    "    #uncomment to see lists of all outliers\n",
    "    # display(outliers)"
   ]
  },
  {
   "attachments": {},
   "cell_type": "markdown",
   "metadata": {},
   "source": [
    "There is one data point, that seems to be a data mistake: row 382 (with index 381): there is only 1 room per 258 sq.m. \n",
    "All other outliers are just big expensive houses."
   ]
  },
  {
   "attachments": {},
   "cell_type": "markdown",
   "metadata": {},
   "source": [
    "**b.** Longtitude and Latitude look like normal distribution, so ± 3std rule for identifying outliers can be applied:"
   ]
  },
  {
   "cell_type": "code",
   "execution_count": 14,
   "metadata": {},
   "outputs": [
    {
     "data": {
      "text/html": [
       "<div>\n",
       "<style scoped>\n",
       "    .dataframe tbody tr th:only-of-type {\n",
       "        vertical-align: middle;\n",
       "    }\n",
       "\n",
       "    .dataframe tbody tr th {\n",
       "        vertical-align: top;\n",
       "    }\n",
       "\n",
       "    .dataframe thead th {\n",
       "        text-align: right;\n",
       "    }\n",
       "</style>\n",
       "<table border=\"1\" class=\"dataframe\">\n",
       "  <thead>\n",
       "    <tr style=\"text-align: right;\">\n",
       "      <th></th>\n",
       "      <th>Mean</th>\n",
       "      <th>Standard deviation</th>\n",
       "      <th>Lower threshold</th>\n",
       "      <th>N of lower outliers</th>\n",
       "      <th>Lower outliers</th>\n",
       "      <th>Upper threshold</th>\n",
       "      <th>N of upper outliers</th>\n",
       "      <th>Upper outliers</th>\n",
       "    </tr>\n",
       "  </thead>\n",
       "  <tbody>\n",
       "    <tr>\n",
       "      <th>Lon</th>\n",
       "      <td>4.88894</td>\n",
       "      <td>0.053376</td>\n",
       "      <td>4.72881</td>\n",
       "      <td>2</td>\n",
       "      <td>[4.655161, 4.644819]</td>\n",
       "      <td>5.04907</td>\n",
       "      <td>0</td>\n",
       "      <td>[]</td>\n",
       "    </tr>\n",
       "    <tr>\n",
       "      <th>Lat</th>\n",
       "      <td>52.36324</td>\n",
       "      <td>0.023811</td>\n",
       "      <td>52.29180</td>\n",
       "      <td>2</td>\n",
       "      <td>[52.291672, 52.291519]</td>\n",
       "      <td>52.43467</td>\n",
       "      <td>0</td>\n",
       "      <td>[]</td>\n",
       "    </tr>\n",
       "  </tbody>\n",
       "</table>\n",
       "</div>"
      ],
      "text/plain": [
       "         Mean  Standard deviation  Lower threshold  N of lower outliers   \n",
       "Lon   4.88894            0.053376          4.72881                    2  \\\n",
       "Lat  52.36324            0.023811         52.29180                    2   \n",
       "\n",
       "             Lower outliers  Upper threshold  N of upper outliers   \n",
       "Lon    [4.655161, 4.644819]          5.04907                    0  \\\n",
       "Lat  [52.291672, 52.291519]         52.43467                    0   \n",
       "\n",
       "    Upper outliers  \n",
       "Lon             []  \n",
       "Lat             []  "
      ]
     },
     "execution_count": 14,
     "metadata": {},
     "output_type": "execute_result"
    }
   ],
   "source": [
    "location_outliers = pd.DataFrame()\n",
    "\n",
    "for i in ['Lon', 'Lat']:\n",
    "\n",
    "    #get all nessesary data\n",
    "    mean = data[i].mean()\n",
    "    std = data[i].std()\n",
    "    lower_treshold = mean - 3 * std\n",
    "    upper_threshold = mean + 3 * std\n",
    "    values_below_3std = data.loc[data[i] < lower_treshold, i].values\n",
    "    values_above_3std = data.loc[data[i] > upper_threshold, i].values\n",
    "    \n",
    "\n",
    "    # add data to dataframe\n",
    "    location_outliers = pd.concat(\n",
    "        [\n",
    "            location_outliers,\n",
    "            pd.DataFrame(\n",
    "                data={\n",
    "                    \"Mean\": round(mean, 5),\n",
    "                    \"Standard deviation\": std,\n",
    "                    \"Lower threshold\": round(lower_treshold, 5),\n",
    "                    \"N of lower outliers\": len(values_below_3std),\n",
    "                    \"Lower outliers\": [values_below_3std],\n",
    "                    \"Upper threshold\": round(upper_threshold, 5),\n",
    "                    \"N of upper outliers\": len(values_above_3std),\n",
    "                    \"Upper outliers\": [values_above_3std],\n",
    "                },\n",
    "                index=[i],\n",
    "            ),\n",
    "        ]\n",
    "    )\n",
    "\n",
    "location_outliers"
   ]
  },
  {
   "attachments": {},
   "cell_type": "markdown",
   "metadata": {},
   "source": [
    "As we can see, there are 2 outliers below 3std both for Longtitude and for Latitude. Lel's plot Lat vs Lon and see what the map of houses looks like:"
   ]
  },
  {
   "cell_type": "code",
   "execution_count": 15,
   "metadata": {},
   "outputs": [
    {
     "data": {
      "text/plain": [
       "<Axes: xlabel='Lat', ylabel='Lon'>"
      ]
     },
     "execution_count": 15,
     "metadata": {},
     "output_type": "execute_result"
    },
    {
     "data": {
      "image/png": "[encoded data removed]",
      "text/plain": [
       "<Figure size 640x480 with 1 Axes>"
      ]
     },
     "metadata": {},
     "output_type": "display_data"
    }
   ],
   "source": [
    "sns.scatterplot(x=data['Lat'], y=data['Lon'])"
   ]
  },
  {
   "attachments": {},
   "cell_type": "markdown",
   "metadata": {},
   "source": [
    "Two points at the bottom of plot are longitude outliers. However those 2 of latitude seem to belong to the small cluster on the left side of the plot, which might be a small residential area a bit outside of the main area. \n",
    "\n",
    "There is one more point, that was not included nither to longitude nor to latitude outliers, looks like another outlier though: the on in the top right corner. Longitude might be close to upper longitude 3std border, latitude fits inside 3std. Lets check this point:"
   ]
  },
  {
   "cell_type": "code",
   "execution_count": 16,
   "metadata": {},
   "outputs": [
    {
     "data": {
      "text/html": [
       "<div>\n",
       "<style scoped>\n",
       "    .dataframe tbody tr th:only-of-type {\n",
       "        vertical-align: middle;\n",
       "    }\n",
       "\n",
       "    .dataframe tbody tr th {\n",
       "        vertical-align: top;\n",
       "    }\n",
       "\n",
       "    .dataframe thead th {\n",
       "        text-align: right;\n",
       "    }\n",
       "</style>\n",
       "<table border=\"1\" class=\"dataframe\">\n",
       "  <thead>\n",
       "    <tr style=\"text-align: right;\">\n",
       "      <th></th>\n",
       "      <th>Lat</th>\n",
       "      <th>Lon</th>\n",
       "    </tr>\n",
       "  </thead>\n",
       "  <tbody>\n",
       "    <tr>\n",
       "      <th>6</th>\n",
       "      <td>52.351935</td>\n",
       "      <td>5.009082</td>\n",
       "    </tr>\n",
       "    <tr>\n",
       "      <th>162</th>\n",
       "      <td>52.350961</td>\n",
       "      <td>5.014044</td>\n",
       "    </tr>\n",
       "    <tr>\n",
       "      <th>219</th>\n",
       "      <td>52.350513</td>\n",
       "      <td>5.016555</td>\n",
       "    </tr>\n",
       "    <tr>\n",
       "      <th>262</th>\n",
       "      <td>52.350556</td>\n",
       "      <td>5.016505</td>\n",
       "    </tr>\n",
       "    <tr>\n",
       "      <th>309</th>\n",
       "      <td>52.349139</td>\n",
       "      <td>5.012134</td>\n",
       "    </tr>\n",
       "    <tr>\n",
       "      <th>324</th>\n",
       "      <td>52.354845</td>\n",
       "      <td>5.001384</td>\n",
       "    </tr>\n",
       "    <tr>\n",
       "      <th>349</th>\n",
       "      <td>52.305296</td>\n",
       "      <td>5.015376</td>\n",
       "    </tr>\n",
       "    <tr>\n",
       "      <th>364</th>\n",
       "      <td>52.352820</td>\n",
       "      <td>5.000330</td>\n",
       "    </tr>\n",
       "    <tr>\n",
       "      <th>388</th>\n",
       "      <td>52.353136</td>\n",
       "      <td>5.000973</td>\n",
       "    </tr>\n",
       "    <tr>\n",
       "      <th>427</th>\n",
       "      <td>52.413550</td>\n",
       "      <td>5.029122</td>\n",
       "    </tr>\n",
       "    <tr>\n",
       "      <th>497</th>\n",
       "      <td>52.352324</td>\n",
       "      <td>5.000011</td>\n",
       "    </tr>\n",
       "    <tr>\n",
       "      <th>512</th>\n",
       "      <td>52.305075</td>\n",
       "      <td>5.016522</td>\n",
       "    </tr>\n",
       "    <tr>\n",
       "      <th>580</th>\n",
       "      <td>52.352811</td>\n",
       "      <td>5.000345</td>\n",
       "    </tr>\n",
       "    <tr>\n",
       "      <th>682</th>\n",
       "      <td>52.350513</td>\n",
       "      <td>5.016555</td>\n",
       "    </tr>\n",
       "  </tbody>\n",
       "</table>\n",
       "</div>"
      ],
      "text/plain": [
       "           Lat       Lon\n",
       "6    52.351935  5.009082\n",
       "162  52.350961  5.014044\n",
       "219  52.350513  5.016555\n",
       "262  52.350556  5.016505\n",
       "309  52.349139  5.012134\n",
       "324  52.354845  5.001384\n",
       "349  52.305296  5.015376\n",
       "364  52.352820  5.000330\n",
       "388  52.353136  5.000973\n",
       "427  52.413550  5.029122\n",
       "497  52.352324  5.000011\n",
       "512  52.305075  5.016522\n",
       "580  52.352811  5.000345\n",
       "682  52.350513  5.016555"
      ]
     },
     "execution_count": 16,
     "metadata": {},
     "output_type": "execute_result"
    }
   ],
   "source": [
    "data.loc[lambda x: x[\"Lon\"] > 5, (\"Lat\", 'Lon')]"
   ]
  },
  {
   "cell_type": "code",
   "execution_count": 17,
   "metadata": {},
   "outputs": [
    {
     "data": {
      "text/plain": [
       "2.1128890008820793"
      ]
     },
     "execution_count": 17,
     "metadata": {},
     "output_type": "execute_result"
    }
   ],
   "source": [
    "# how far is the point from the mean latitude (based on formula x = mean + n*std)\n",
    "\n",
    "n = (52.413550 - 52.36324) / 0.023811\n",
    "n"
   ]
  },
  {
   "attachments": {},
   "cell_type": "markdown",
   "metadata": {},
   "source": [
    "The value 2 means that this point is in 5% minority of data, that lies behind ±2std. Can easily be classified as outlier counting the fact, that also latitude is the highest for this longitude sector (>5)."
   ]
  },
  {
   "attachments": {},
   "cell_type": "markdown",
   "metadata": {},
   "source": [
    "2. Check text data (Address and ZIP)"
   ]
  },
  {
   "cell_type": "code",
   "execution_count": 18,
   "metadata": {},
   "outputs": [
    {
     "data": {
      "text/plain": [
       "Address\n",
       "Huidekoperstraat 24 F, Amsterdam        2\n",
       "Quashibastraat, Amsterdam               2\n",
       "Nieuwevaartweg, Amsterdam               2\n",
       "Ringdijk, Amsterdam                     2\n",
       "Van Boetzelaerstraat 36 1, Amsterdam    1\n",
       "                                       ..\n",
       "Fahrenheitsingel 17, Amsterdam          1\n",
       "De Wittenkade 23 2V, Amsterdam          1\n",
       "Utrechtsedwarsstraat 4, Amsterdam       1\n",
       "Kloekhorststraat 231, Amsterdam         1\n",
       "Zandstraat 5 hs, Amsterdam              1\n",
       "Name: count, Length: 735, dtype: int64"
      ]
     },
     "execution_count": 18,
     "metadata": {},
     "output_type": "execute_result"
    }
   ],
   "source": [
    "data['Address'].value_counts()"
   ]
  },
  {
   "attachments": {},
   "cell_type": "markdown",
   "metadata": {},
   "source": [
    "There are 735 unique addresses out of 739 datapoints. That will not give a lot of information in terms of prediction. Let's check zip codes:"
   ]
  },
  {
   "cell_type": "code",
   "execution_count": 19,
   "metadata": {},
   "outputs": [
    {
     "data": {
      "text/plain": [
       "Zip\n",
       "1075 XR    4\n",
       "1011 AW    3\n",
       "1060 RZ    3\n",
       "1087 VS    3\n",
       "1068 WT    3\n",
       "          ..\n",
       "1013 CA    1\n",
       "1097 NR    1\n",
       "1052 AA    1\n",
       "1017 WG    1\n",
       "1011 HJ    1\n",
       "Name: count, Length: 673, dtype: int64"
      ]
     },
     "execution_count": 19,
     "metadata": {},
     "output_type": "execute_result"
    }
   ],
   "source": [
    "data['Zip'].value_counts()"
   ]
  },
  {
   "attachments": {},
   "cell_type": "markdown",
   "metadata": {},
   "source": [
    "It looks slightly better: there are some houses with the same zip codes and there could be dependancy between zip and price of the house. However, if we investigate the princip of zip codes formation, it is easy to discover, that main regions of the city are marked with 4 numbers, and subregions, which usually include just a couple of houses, are marked with 2 letters. When first digits are 1 and 0, it means the house is in Amsterdam. Even though the dataset is about this city, there are also zip codes, which start with 11 - that is a Zuidost area, which is a bit futher from the city. The assumption is that there might be less clusters (and thus more predictable), if use only 4 digits instead of 4 digits + 2 letters. Let's try to separate them:"
   ]
  },
  {
   "cell_type": "code",
   "execution_count": 20,
   "metadata": {},
   "outputs": [
    {
     "name": "stderr",
     "output_type": "stream",
     "text": [
      "/var/folders/32/8k8cb3jn77bbc7_7_m5_xlf00000gn/T/ipykernel_4218/3335978991.py:4: SettingWithCopyWarning: \n",
      "A value is trying to be set on a copy of a slice from a DataFrame\n",
      "\n",
      "See the caveats in the documentation: https://pandas.pydata.org/pandas-docs/stable/user_guide/indexing.html#returning-a-view-versus-a-copy\n",
      "  data['Zip num'][row] = data['Zip'][row][:-3]\n",
      "/var/folders/32/8k8cb3jn77bbc7_7_m5_xlf00000gn/T/ipykernel_4218/3335978991.py:5: SettingWithCopyWarning: \n",
      "A value is trying to be set on a copy of a slice from a DataFrame\n",
      "\n",
      "See the caveats in the documentation: https://pandas.pydata.org/pandas-docs/stable/user_guide/indexing.html#returning-a-view-versus-a-copy\n",
      "  data['Zip letters'][row] = data['Zip'][row][5:]\n"
     ]
    }
   ],
   "source": [
    "data['Zip num'] = np.nan\n",
    "data['Zip letters'] = np.nan\n",
    "for row in range(data.shape[0]):\n",
    "    data['Zip num'][row] = data['Zip'][row][:-3]\n",
    "    data['Zip letters'][row] = data['Zip'][row][5:]"
   ]
  },
  {
   "cell_type": "code",
   "execution_count": 21,
   "metadata": {},
   "outputs": [
    {
     "data": {
      "text/plain": [
       "Zip num\n",
       "1058    24\n",
       "1017    23\n",
       "1024    20\n",
       "1013    20\n",
       "1053    20\n",
       "        ..\n",
       "1023     2\n",
       "1108     2\n",
       "1109     2\n",
       "1028     2\n",
       "1022     1\n",
       "Name: count, Length: 70, dtype: int64"
      ]
     },
     "execution_count": 21,
     "metadata": {},
     "output_type": "execute_result"
    }
   ],
   "source": [
    "data['Zip num'].value_counts()"
   ]
  },
  {
   "attachments": {},
   "cell_type": "markdown",
   "metadata": {},
   "source": [
    "The assumption is accepted: there are 9 times less clusters when using only numbers of zip code. This hypothesis will be tested when different models will be applied."
   ]
  },
  {
   "attachments": {},
   "cell_type": "markdown",
   "metadata": {},
   "source": [
    "### 4. Study the correlations between attributes"
   ]
  },
  {
   "cell_type": "code",
   "execution_count": 22,
   "metadata": {},
   "outputs": [],
   "source": [
    "numerical_data = data[['Price', 'Area', 'Room', 'Lat', 'Lon', 'Zip num']]"
   ]
  },
  {
   "cell_type": "code",
   "execution_count": 23,
   "metadata": {},
   "outputs": [
    {
     "data": {
      "text/plain": [
       "<Axes: >"
      ]
     },
     "execution_count": 23,
     "metadata": {},
     "output_type": "execute_result"
    },
    {
     "data": {
      "image/png": "[encoded data removed]",
      "text/plain": [
       "<Figure size 640x480 with 2 Axes>"
      ]
     },
     "metadata": {},
     "output_type": "display_data"
    }
   ],
   "source": [
    "corr_matrix = numerical_data.corr()\n",
    "sns.heatmap(corr_matrix, annot = True)"
   ]
  },
  {
   "attachments": {},
   "cell_type": "markdown",
   "metadata": {},
   "source": [
    "There is **high** correlation between:\n",
    " - Price and Area (positive)\n",
    " - Area and Room (positive)\n",
    " - Latitude and Zip (negative)\n",
    "\n",
    "There is **moderate** correlation between:\n",
    " - Price and Room (positive)\n",
    "\n",
    "There is **low** correlation between:\n",
    "- Price and Zip (negative)\n",
    "- Longitude and Latitude (positive)\n",
    "- Longitude and Zip (negative)"
   ]
  },
  {
   "attachments": {},
   "cell_type": "markdown",
   "metadata": {},
   "source": [
    "### 5. Identify the promising transformations that may be applied."
   ]
  },
  {
   "attachments": {},
   "cell_type": "markdown",
   "metadata": {},
   "source": [
    "1. Divide Zip to numbers and letters.\n",
    "2. Add price per square meter, as in the world of real estate that is more important than a price of a house.\n",
    "3. Having coordinates of latitude and longitude, it is posible to define a 'center' point as a city center, where the houses are usually more expencive, and calculate distance to every datapoint as a vector.\n",
    "4. Address data in original format is not informative and needs to be changed."
   ]
  },
  {
   "attachments": {},
   "cell_type": "markdown",
   "metadata": {},
   "source": [
    "**Summary:**\n",
    " - Target: `Price` numerical continuous variable;\n",
    " - There are 6 features: 4 continuous, 2 text;\n",
    " - There are 3 missing values in target variable;\n",
    " - There are no missing values in features;\n",
    " - `Price`, `Area` and `Room` have right-skewed distribution and 56, 33, 62 outliers respectively. However if we look closer to these outliers, we'll see that all of them are just big (and thus expencive) houses. These values will not be considered as outliers;\n",
    " - There are 2 outiers in `Longitude`, that are much lower than the mean;\n",
    " - Outliers of `Latitude` create a cluster togeter with other points and will not be considered as outliers.\n",
    " - There is one point, which is an outlier niether for longitude, not for latitude, but when plotting coordinates, we see that it is far from the main distribution of points. It will be considered an outlier;\n",
    " - Most values of both text features (`Address` and `Zip`) are unique, thus not informative for prediction;\n",
    " - When removing letters from `Zip` code, there are 70 unique values, which represent areas of the city. The assumption is they are more generalized, than original format of zip code.\n",
    " \n",
    "\n"
   ]
  }
 ],
 "metadata": {
  "kernelspec": {
   "display_name": "Python 3",
   "language": "python",
   "name": "python3"
  },
  "language_info": {
   "codemirror_mode": {
    "name": "ipython",
    "version": 3
   },
   "file_extension": ".py",
   "mimetype": "text/x-python",
   "name": "python",
   "nbconvert_exporter": "python",
   "pygments_lexer": "ipython3",
   "version": "3.10.10"
  },
  "orig_nbformat": 4
 },
 "nbformat": 4,
 "nbformat_minor": 2
}
